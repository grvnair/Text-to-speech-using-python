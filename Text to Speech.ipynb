{
 "cells": [
  {
   "cell_type": "code",
   "execution_count": 1,
   "id": "9e1636fe",
   "metadata": {},
   "outputs": [],
   "source": [
    "import pyttsx3\n",
    "import PyPDF2\n",
    "\n",
    "import warnings\n",
    "warnings.filterwarnings('ignore')"
   ]
  },
  {
   "cell_type": "code",
   "execution_count": 2,
   "id": "71d29652",
   "metadata": {},
   "outputs": [],
   "source": [
    "engine = pyttsx3.init()"
   ]
  },
  {
   "cell_type": "code",
   "execution_count": 3,
   "id": "e1bc1b6d",
   "metadata": {},
   "outputs": [],
   "source": [
    "voices = engine.getProperty('voices')       #getting details of current voice\n",
    "#engine.setProperty('voice', voices[0].id)  #changing index, changes voices. o for male\n",
    "engine.setProperty('voice', voices[1].id)   #changing index, changes voices. 1 for female"
   ]
  },
  {
   "cell_type": "code",
   "execution_count": 4,
   "id": "5267c1fa",
   "metadata": {},
   "outputs": [],
   "source": [
    "engine.say(\"Hey, I can speak!\")\n",
    "engine.runAndWait()"
   ]
  },
  {
   "cell_type": "code",
   "execution_count": 5,
   "id": "21681fc7",
   "metadata": {},
   "outputs": [
    {
     "name": "stdout",
     "output_type": "stream",
     "text": [
      "200\n"
     ]
    }
   ],
   "source": [
    "rate = engine.getProperty('rate')\n",
    "engine.say(\"My current speaking rate is\" + str(rate))\n",
    "engine.runAndWait()\n",
    "engine.stop()\n",
    "print(rate)"
   ]
  },
  {
   "cell_type": "code",
   "execution_count": 6,
   "id": "39a46cce",
   "metadata": {},
   "outputs": [],
   "source": [
    "pdf = open('C:/Users/pc/OneDrive/Desktop/ML Models/TextToSpeech/Bishop-Pattern-Recognition-and-Machine-Learning-2006.pdf', 'rb')\n",
    "# pdf = open(\"F:/Data Science Interview Questions InterviewBit.pdf\")"
   ]
  },
  {
   "cell_type": "code",
   "execution_count": 7,
   "id": "fb7c7bd6",
   "metadata": {},
   "outputs": [
    {
     "name": "stderr",
     "output_type": "stream",
     "text": [
      "Xref table not zero-indexed. ID numbers for objects will be corrected.\n",
      "Xref table not zero-indexed. ID numbers for objects will be corrected.\n",
      "Xref table not zero-indexed. ID numbers for objects will be corrected.\n",
      "Xref table not zero-indexed. ID numbers for objects will be corrected.\n",
      "Xref table not zero-indexed. ID numbers for objects will be corrected.\n"
     ]
    }
   ],
   "source": [
    "read = PyPDF2.PdfFileReader(pdf)"
   ]
  },
  {
   "cell_type": "code",
   "execution_count": 8,
   "id": "01884854",
   "metadata": {},
   "outputs": [],
   "source": [
    "pages = read.numPages\n",
    "engine = pyttsx3.init()"
   ]
  },
  {
   "cell_type": "code",
   "execution_count": 9,
   "id": "cc0d5d5c",
   "metadata": {},
   "outputs": [],
   "source": [
    " for i in range(1, 2):\n",
    "     page = read.getPage(i)\n",
    "     text = page.extract_text()\n",
    "     engine.say(text)\n",
    "     engine.save_to_file(text, 'C:/Users/pc/OneDrive/Desktop/ML Models/TextToSpeech/test.mp3')\n",
    "     engine.runAndWait()\n",
    "     engine.stop()"
   ]
  }
 ],
 "metadata": {
  "kernelspec": {
   "display_name": "Python 3 (ipykernel)",
   "language": "python",
   "name": "python3"
  },
  "language_info": {
   "codemirror_mode": {
    "name": "ipython",
    "version": 3
   },
   "file_extension": ".py",
   "mimetype": "text/x-python",
   "name": "python",
   "nbconvert_exporter": "python",
   "pygments_lexer": "ipython3",
   "version": "3.10.7"
  }
 },
 "nbformat": 4,
 "nbformat_minor": 5
}
